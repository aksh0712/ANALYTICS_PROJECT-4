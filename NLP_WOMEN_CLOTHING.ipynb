{
 "cells": [
  {
   "cell_type": "code",
   "execution_count": 101,
   "id": "86cdce4a",
   "metadata": {},
   "outputs": [],
   "source": [
    "#import required packages\n",
    "#basics\n",
    "import pandas as pd \n",
    "import numpy as np\n",
    "import os\n",
    "#stats\n",
    "from scipy import sparse\n",
    "import scipy.stats as ss\n",
    "\n",
    "#viz\n",
    "import matplotlib.pyplot as plt\n",
    "import seaborn as sns\n",
    "#from wordcloud import WordCloud ,STOPWORDS\n",
    "from PIL import Image\n",
    "\n",
    "#nlp\n",
    "import string\n",
    "import re    #for regex\n",
    "import nltk\n",
    "from nltk.corpus import stopwords\n",
    "\n",
    "#import spacy\n",
    "from nltk import pos_tag\n",
    "from nltk.stem.wordnet import WordNetLemmatizer \n",
    "from nltk.tokenize import word_tokenize\n",
    "\n",
    "\n",
    "#FeatureEngineering\n",
    "#from sklearn.feature_extraction.text import TfidfVectorizer, CountVectorizer, HashingVectorizer, TfidfTransformer\n",
    "#from sklearn import model_selection, preprocessing, linear_model, naive_bayes, metrics, svm, decomposition, ensemble\n",
    "#from sklearn.linear_model import LogisticRegression\n",
    "#from sklearn.model_selection import train_test_split\n",
    "\n",
    "import  textblob\n",
    "import xgboost\n",
    "\n",
    "from textblob import TextBlob\n",
    "#from nltk.stem import PorterStemmer"
   ]
  },
  {
   "cell_type": "code",
   "execution_count": 102,
   "id": "1a078b98",
   "metadata": {},
   "outputs": [
    {
     "data": {
      "text/plain": [
       "'C:\\\\Users\\\\Akshay\\\\Desktop\\\\NLP- Woman Clothing'"
      ]
     },
     "execution_count": 102,
     "metadata": {},
     "output_type": "execute_result"
    }
   ],
   "source": [
    "%pwd"
   ]
  },
  {
   "cell_type": "code",
   "execution_count": 103,
   "id": "89955474",
   "metadata": {},
   "outputs": [],
   "source": [
    "os.chdir('C:\\\\Users\\\\Akshay\\\\Desktop\\\\NLP- Woman Clothing')"
   ]
  },
  {
   "cell_type": "code",
   "execution_count": 104,
   "id": "e056d55c",
   "metadata": {},
   "outputs": [],
   "source": [
    "cloths = pd.read_csv('Womens Clothing Reviews Data.csv')"
   ]
  },
  {
   "cell_type": "code",
   "execution_count": 105,
   "id": "3639ce12",
   "metadata": {},
   "outputs": [
    {
     "data": {
      "text/html": [
       "<div>\n",
       "<style scoped>\n",
       "    .dataframe tbody tr th:only-of-type {\n",
       "        vertical-align: middle;\n",
       "    }\n",
       "\n",
       "    .dataframe tbody tr th {\n",
       "        vertical-align: top;\n",
       "    }\n",
       "\n",
       "    .dataframe thead th {\n",
       "        text-align: right;\n",
       "    }\n",
       "</style>\n",
       "<table border=\"1\" class=\"dataframe\">\n",
       "  <thead>\n",
       "    <tr style=\"text-align: right;\">\n",
       "      <th></th>\n",
       "      <th>Product ID</th>\n",
       "      <th>Category</th>\n",
       "      <th>Subcategory1</th>\n",
       "      <th>SubCategory2</th>\n",
       "      <th>Location</th>\n",
       "      <th>Channel</th>\n",
       "      <th>Customer Age</th>\n",
       "      <th>Review Title</th>\n",
       "      <th>Review Text</th>\n",
       "      <th>Rating</th>\n",
       "      <th>Recommend Flag</th>\n",
       "    </tr>\n",
       "  </thead>\n",
       "  <tbody>\n",
       "    <tr>\n",
       "      <th>0</th>\n",
       "      <td>767</td>\n",
       "      <td>Initmates</td>\n",
       "      <td>Intimate</td>\n",
       "      <td>Intimates</td>\n",
       "      <td>Mumbai</td>\n",
       "      <td>Mobile</td>\n",
       "      <td>33</td>\n",
       "      <td>NaN</td>\n",
       "      <td>Absolutely wonderful - silky and sexy and comf...</td>\n",
       "      <td>4</td>\n",
       "      <td>1</td>\n",
       "    </tr>\n",
       "    <tr>\n",
       "      <th>1</th>\n",
       "      <td>1080</td>\n",
       "      <td>General</td>\n",
       "      <td>Dresses</td>\n",
       "      <td>Dresses</td>\n",
       "      <td>Bangalore</td>\n",
       "      <td>Mobile</td>\n",
       "      <td>34</td>\n",
       "      <td>NaN</td>\n",
       "      <td>Love this dress!  it's sooo pretty.  i happene...</td>\n",
       "      <td>5</td>\n",
       "      <td>1</td>\n",
       "    </tr>\n",
       "    <tr>\n",
       "      <th>2</th>\n",
       "      <td>1077</td>\n",
       "      <td>General</td>\n",
       "      <td>Dresses</td>\n",
       "      <td>Dresses</td>\n",
       "      <td>Gurgaon</td>\n",
       "      <td>Mobile</td>\n",
       "      <td>60</td>\n",
       "      <td>Some major design flaws</td>\n",
       "      <td>I had such high hopes for this dress and reall...</td>\n",
       "      <td>3</td>\n",
       "      <td>0</td>\n",
       "    </tr>\n",
       "    <tr>\n",
       "      <th>3</th>\n",
       "      <td>1049</td>\n",
       "      <td>General Petite</td>\n",
       "      <td>Bottoms</td>\n",
       "      <td>Pants</td>\n",
       "      <td>Chennai</td>\n",
       "      <td>Web</td>\n",
       "      <td>50</td>\n",
       "      <td>My favorite buy!</td>\n",
       "      <td>I love, love, love this jumpsuit. it's fun, fl...</td>\n",
       "      <td>5</td>\n",
       "      <td>1</td>\n",
       "    </tr>\n",
       "    <tr>\n",
       "      <th>4</th>\n",
       "      <td>847</td>\n",
       "      <td>General</td>\n",
       "      <td>Tops</td>\n",
       "      <td>Blouses</td>\n",
       "      <td>Bangalore</td>\n",
       "      <td>Web</td>\n",
       "      <td>47</td>\n",
       "      <td>Flattering shirt</td>\n",
       "      <td>This shirt is very flattering to all due to th...</td>\n",
       "      <td>5</td>\n",
       "      <td>1</td>\n",
       "    </tr>\n",
       "  </tbody>\n",
       "</table>\n",
       "</div>"
      ],
      "text/plain": [
       "   Product ID        Category Subcategory1 SubCategory2   Location Channel  \\\n",
       "0         767       Initmates     Intimate    Intimates     Mumbai  Mobile   \n",
       "1        1080         General      Dresses      Dresses  Bangalore  Mobile   \n",
       "2        1077         General      Dresses      Dresses    Gurgaon  Mobile   \n",
       "3        1049  General Petite      Bottoms        Pants    Chennai     Web   \n",
       "4         847         General         Tops      Blouses  Bangalore     Web   \n",
       "\n",
       "   Customer Age             Review Title  \\\n",
       "0            33                      NaN   \n",
       "1            34                      NaN   \n",
       "2            60  Some major design flaws   \n",
       "3            50         My favorite buy!   \n",
       "4            47         Flattering shirt   \n",
       "\n",
       "                                         Review Text  Rating  Recommend Flag  \n",
       "0  Absolutely wonderful - silky and sexy and comf...       4               1  \n",
       "1  Love this dress!  it's sooo pretty.  i happene...       5               1  \n",
       "2  I had such high hopes for this dress and reall...       3               0  \n",
       "3  I love, love, love this jumpsuit. it's fun, fl...       5               1  \n",
       "4  This shirt is very flattering to all due to th...       5               1  "
      ]
     },
     "execution_count": 105,
     "metadata": {},
     "output_type": "execute_result"
    }
   ],
   "source": [
    "cloths.head()"
   ]
  },
  {
   "cell_type": "code",
   "execution_count": 106,
   "id": "a5125a6b",
   "metadata": {},
   "outputs": [],
   "source": [
    "cloths = cloths.drop(columns = ['Product ID', 'Review Title'], axis=1)"
   ]
  },
  {
   "cell_type": "code",
   "execution_count": 107,
   "id": "f2c41281",
   "metadata": {},
   "outputs": [],
   "source": [
    "cloths.rename(columns={'Customer Age':'Customer_Age', 'Review Text':'Review_Text', 'Recommend Flag':'Recommend_Flag' }, inplace=True)"
   ]
  },
  {
   "cell_type": "code",
   "execution_count": 108,
   "id": "89426d96",
   "metadata": {},
   "outputs": [
    {
     "data": {
      "text/html": [
       "<div>\n",
       "<style scoped>\n",
       "    .dataframe tbody tr th:only-of-type {\n",
       "        vertical-align: middle;\n",
       "    }\n",
       "\n",
       "    .dataframe tbody tr th {\n",
       "        vertical-align: top;\n",
       "    }\n",
       "\n",
       "    .dataframe thead th {\n",
       "        text-align: right;\n",
       "    }\n",
       "</style>\n",
       "<table border=\"1\" class=\"dataframe\">\n",
       "  <thead>\n",
       "    <tr style=\"text-align: right;\">\n",
       "      <th></th>\n",
       "      <th>Category</th>\n",
       "      <th>Subcategory1</th>\n",
       "      <th>SubCategory2</th>\n",
       "      <th>Location</th>\n",
       "      <th>Channel</th>\n",
       "      <th>Customer_Age</th>\n",
       "      <th>Review_Text</th>\n",
       "      <th>Rating</th>\n",
       "      <th>Recommend_Flag</th>\n",
       "    </tr>\n",
       "  </thead>\n",
       "  <tbody>\n",
       "    <tr>\n",
       "      <th>0</th>\n",
       "      <td>Initmates</td>\n",
       "      <td>Intimate</td>\n",
       "      <td>Intimates</td>\n",
       "      <td>Mumbai</td>\n",
       "      <td>Mobile</td>\n",
       "      <td>33</td>\n",
       "      <td>Absolutely wonderful - silky and sexy and comf...</td>\n",
       "      <td>4</td>\n",
       "      <td>1</td>\n",
       "    </tr>\n",
       "    <tr>\n",
       "      <th>1</th>\n",
       "      <td>General</td>\n",
       "      <td>Dresses</td>\n",
       "      <td>Dresses</td>\n",
       "      <td>Bangalore</td>\n",
       "      <td>Mobile</td>\n",
       "      <td>34</td>\n",
       "      <td>Love this dress!  it's sooo pretty.  i happene...</td>\n",
       "      <td>5</td>\n",
       "      <td>1</td>\n",
       "    </tr>\n",
       "    <tr>\n",
       "      <th>2</th>\n",
       "      <td>General</td>\n",
       "      <td>Dresses</td>\n",
       "      <td>Dresses</td>\n",
       "      <td>Gurgaon</td>\n",
       "      <td>Mobile</td>\n",
       "      <td>60</td>\n",
       "      <td>I had such high hopes for this dress and reall...</td>\n",
       "      <td>3</td>\n",
       "      <td>0</td>\n",
       "    </tr>\n",
       "    <tr>\n",
       "      <th>3</th>\n",
       "      <td>General Petite</td>\n",
       "      <td>Bottoms</td>\n",
       "      <td>Pants</td>\n",
       "      <td>Chennai</td>\n",
       "      <td>Web</td>\n",
       "      <td>50</td>\n",
       "      <td>I love, love, love this jumpsuit. it's fun, fl...</td>\n",
       "      <td>5</td>\n",
       "      <td>1</td>\n",
       "    </tr>\n",
       "    <tr>\n",
       "      <th>4</th>\n",
       "      <td>General</td>\n",
       "      <td>Tops</td>\n",
       "      <td>Blouses</td>\n",
       "      <td>Bangalore</td>\n",
       "      <td>Web</td>\n",
       "      <td>47</td>\n",
       "      <td>This shirt is very flattering to all due to th...</td>\n",
       "      <td>5</td>\n",
       "      <td>1</td>\n",
       "    </tr>\n",
       "  </tbody>\n",
       "</table>\n",
       "</div>"
      ],
      "text/plain": [
       "         Category Subcategory1 SubCategory2   Location Channel  Customer_Age  \\\n",
       "0       Initmates     Intimate    Intimates     Mumbai  Mobile            33   \n",
       "1         General      Dresses      Dresses  Bangalore  Mobile            34   \n",
       "2         General      Dresses      Dresses    Gurgaon  Mobile            60   \n",
       "3  General Petite      Bottoms        Pants    Chennai     Web            50   \n",
       "4         General         Tops      Blouses  Bangalore     Web            47   \n",
       "\n",
       "                                         Review_Text  Rating  Recommend_Flag  \n",
       "0  Absolutely wonderful - silky and sexy and comf...       4               1  \n",
       "1  Love this dress!  it's sooo pretty.  i happene...       5               1  \n",
       "2  I had such high hopes for this dress and reall...       3               0  \n",
       "3  I love, love, love this jumpsuit. it's fun, fl...       5               1  \n",
       "4  This shirt is very flattering to all due to th...       5               1  "
      ]
     },
     "execution_count": 108,
     "metadata": {},
     "output_type": "execute_result"
    }
   ],
   "source": [
    "cloths.head()"
   ]
  },
  {
   "cell_type": "code",
   "execution_count": 109,
   "id": "545e9af5",
   "metadata": {},
   "outputs": [
    {
     "data": {
      "text/html": [
       "<div>\n",
       "<style scoped>\n",
       "    .dataframe tbody tr th:only-of-type {\n",
       "        vertical-align: middle;\n",
       "    }\n",
       "\n",
       "    .dataframe tbody tr th {\n",
       "        vertical-align: top;\n",
       "    }\n",
       "\n",
       "    .dataframe thead th {\n",
       "        text-align: right;\n",
       "    }\n",
       "</style>\n",
       "<table border=\"1\" class=\"dataframe\">\n",
       "  <thead>\n",
       "    <tr style=\"text-align: right;\">\n",
       "      <th></th>\n",
       "      <th>Category</th>\n",
       "      <th>Subcategory1</th>\n",
       "      <th>SubCategory2</th>\n",
       "      <th>Location</th>\n",
       "      <th>Channel</th>\n",
       "      <th>Customer_Age</th>\n",
       "      <th>Review_Text</th>\n",
       "      <th>Rating</th>\n",
       "      <th>Recommend_Flag</th>\n",
       "    </tr>\n",
       "  </thead>\n",
       "  <tbody>\n",
       "    <tr>\n",
       "      <th>20289</th>\n",
       "      <td>General Petite</td>\n",
       "      <td>Bottoms</td>\n",
       "      <td>Jeans</td>\n",
       "      <td>Mumbai</td>\n",
       "      <td>Web</td>\n",
       "      <td>37</td>\n",
       "      <td>I purchased these in january and today i am go...</td>\n",
       "      <td>1</td>\n",
       "      <td>0</td>\n",
       "    </tr>\n",
       "    <tr>\n",
       "      <th>14201</th>\n",
       "      <td>General</td>\n",
       "      <td>Jackets</td>\n",
       "      <td>Outerwear</td>\n",
       "      <td>Bangalore</td>\n",
       "      <td>Web</td>\n",
       "      <td>26</td>\n",
       "      <td>This coat is awful, just awful. i bought it ba...</td>\n",
       "      <td>1</td>\n",
       "      <td>0</td>\n",
       "    </tr>\n",
       "    <tr>\n",
       "      <th>22346</th>\n",
       "      <td>General</td>\n",
       "      <td>Bottoms</td>\n",
       "      <td>Shorts</td>\n",
       "      <td>Bangalore</td>\n",
       "      <td>Web</td>\n",
       "      <td>30</td>\n",
       "      <td>I followed the other reviews and sized down. n...</td>\n",
       "      <td>1</td>\n",
       "      <td>0</td>\n",
       "    </tr>\n",
       "    <tr>\n",
       "      <th>23019</th>\n",
       "      <td>General</td>\n",
       "      <td>Bottoms</td>\n",
       "      <td>Skirts</td>\n",
       "      <td>Mumbai</td>\n",
       "      <td>Web</td>\n",
       "      <td>30</td>\n",
       "      <td>This skirt is definitely not what i was expect...</td>\n",
       "      <td>1</td>\n",
       "      <td>0</td>\n",
       "    </tr>\n",
       "    <tr>\n",
       "      <th>18740</th>\n",
       "      <td>General</td>\n",
       "      <td>Dresses</td>\n",
       "      <td>Dresses</td>\n",
       "      <td>Chennai</td>\n",
       "      <td>Mobile</td>\n",
       "      <td>37</td>\n",
       "      <td>Quality was not what you expect from retailer,...</td>\n",
       "      <td>1</td>\n",
       "      <td>0</td>\n",
       "    </tr>\n",
       "    <tr>\n",
       "      <th>...</th>\n",
       "      <td>...</td>\n",
       "      <td>...</td>\n",
       "      <td>...</td>\n",
       "      <td>...</td>\n",
       "      <td>...</td>\n",
       "      <td>...</td>\n",
       "      <td>...</td>\n",
       "      <td>...</td>\n",
       "      <td>...</td>\n",
       "    </tr>\n",
       "    <tr>\n",
       "      <th>10078</th>\n",
       "      <td>General Petite</td>\n",
       "      <td>Intimate</td>\n",
       "      <td>Lounge</td>\n",
       "      <td>Bangalore</td>\n",
       "      <td>Mobile</td>\n",
       "      <td>44</td>\n",
       "      <td>This is the perfect tank. it's super soft, gre...</td>\n",
       "      <td>5</td>\n",
       "      <td>1</td>\n",
       "    </tr>\n",
       "    <tr>\n",
       "      <th>10079</th>\n",
       "      <td>General Petite</td>\n",
       "      <td>Intimate</td>\n",
       "      <td>Lounge</td>\n",
       "      <td>Chennai</td>\n",
       "      <td>Web</td>\n",
       "      <td>36</td>\n",
       "      <td>These tanks are very soft. i have two black an...</td>\n",
       "      <td>5</td>\n",
       "      <td>1</td>\n",
       "    </tr>\n",
       "    <tr>\n",
       "      <th>10080</th>\n",
       "      <td>General</td>\n",
       "      <td>Tops</td>\n",
       "      <td>Knits</td>\n",
       "      <td>Gurgaon</td>\n",
       "      <td>Mobile</td>\n",
       "      <td>66</td>\n",
       "      <td>Love the cut of this t-shirt. just loose enoug...</td>\n",
       "      <td>5</td>\n",
       "      <td>1</td>\n",
       "    </tr>\n",
       "    <tr>\n",
       "      <th>10082</th>\n",
       "      <td>General</td>\n",
       "      <td>Tops</td>\n",
       "      <td>Blouses</td>\n",
       "      <td>Mumbai</td>\n",
       "      <td>Web</td>\n",
       "      <td>39</td>\n",
       "      <td>But when i saw this top in person, urged by my...</td>\n",
       "      <td>5</td>\n",
       "      <td>1</td>\n",
       "    </tr>\n",
       "    <tr>\n",
       "      <th>23485</th>\n",
       "      <td>General Petite</td>\n",
       "      <td>Dresses</td>\n",
       "      <td>Dresses</td>\n",
       "      <td>Chennai</td>\n",
       "      <td>Mobile</td>\n",
       "      <td>52</td>\n",
       "      <td>This dress in a lovely platinum is feminine an...</td>\n",
       "      <td>5</td>\n",
       "      <td>1</td>\n",
       "    </tr>\n",
       "  </tbody>\n",
       "</table>\n",
       "<p>23486 rows × 9 columns</p>\n",
       "</div>"
      ],
      "text/plain": [
       "             Category Subcategory1 SubCategory2   Location Channel  \\\n",
       "20289  General Petite      Bottoms        Jeans     Mumbai     Web   \n",
       "14201         General      Jackets    Outerwear  Bangalore     Web   \n",
       "22346         General      Bottoms       Shorts  Bangalore     Web   \n",
       "23019         General      Bottoms       Skirts     Mumbai     Web   \n",
       "18740         General      Dresses      Dresses    Chennai  Mobile   \n",
       "...               ...          ...          ...        ...     ...   \n",
       "10078  General Petite     Intimate       Lounge  Bangalore  Mobile   \n",
       "10079  General Petite     Intimate       Lounge    Chennai     Web   \n",
       "10080         General         Tops        Knits    Gurgaon  Mobile   \n",
       "10082         General         Tops      Blouses     Mumbai     Web   \n",
       "23485  General Petite      Dresses      Dresses    Chennai  Mobile   \n",
       "\n",
       "       Customer_Age                                        Review_Text  \\\n",
       "20289            37  I purchased these in january and today i am go...   \n",
       "14201            26  This coat is awful, just awful. i bought it ba...   \n",
       "22346            30  I followed the other reviews and sized down. n...   \n",
       "23019            30  This skirt is definitely not what i was expect...   \n",
       "18740            37  Quality was not what you expect from retailer,...   \n",
       "...             ...                                                ...   \n",
       "10078            44  This is the perfect tank. it's super soft, gre...   \n",
       "10079            36  These tanks are very soft. i have two black an...   \n",
       "10080            66  Love the cut of this t-shirt. just loose enoug...   \n",
       "10082            39  But when i saw this top in person, urged by my...   \n",
       "23485            52  This dress in a lovely platinum is feminine an...   \n",
       "\n",
       "       Rating  Recommend_Flag  \n",
       "20289       1               0  \n",
       "14201       1               0  \n",
       "22346       1               0  \n",
       "23019       1               0  \n",
       "18740       1               0  \n",
       "...       ...             ...  \n",
       "10078       5               1  \n",
       "10079       5               1  \n",
       "10080       5               1  \n",
       "10082       5               1  \n",
       "23485       5               1  \n",
       "\n",
       "[23486 rows x 9 columns]"
      ]
     },
     "execution_count": 109,
     "metadata": {},
     "output_type": "execute_result"
    }
   ],
   "source": [
    "cloths.sort_values('Rating')"
   ]
  },
  {
   "cell_type": "code",
   "execution_count": 149,
   "id": "be38148a",
   "metadata": {},
   "outputs": [
    {
     "name": "stdout",
     "output_type": "stream",
     "text": [
      "5    12527\n",
      "4     4908\n",
      "3     2823\n",
      "2     1549\n",
      "1      821\n",
      "Name: Rating, dtype: int64 \n",
      " In Percentage \n",
      " 5    55.360615\n",
      "4    21.689942\n",
      "3    12.475694\n",
      "2     6.845501\n",
      "1     3.628248\n",
      "Name: Rating, dtype: float64\n"
     ]
    }
   ],
   "source": [
    "print(cloths.Rating.value_counts(),\"\\n In Percentage \\n\",cloths.Rating.value_counts()/sum(cloths.Rating.value_counts())*100)"
   ]
  },
  {
   "cell_type": "code",
   "execution_count": 111,
   "id": "d3722b1d",
   "metadata": {},
   "outputs": [
    {
     "data": {
      "text/plain": [
       "Category           14\n",
       "Subcategory1       14\n",
       "SubCategory2       14\n",
       "Location            0\n",
       "Channel             0\n",
       "Customer_Age        0\n",
       "Review_Text       845\n",
       "Rating              0\n",
       "Recommend_Flag      0\n",
       "dtype: int64"
      ]
     },
     "execution_count": 111,
     "metadata": {},
     "output_type": "execute_result"
    }
   ],
   "source": [
    "cloths.isna().sum()"
   ]
  },
  {
   "cell_type": "code",
   "execution_count": 112,
   "id": "c5d32efd",
   "metadata": {},
   "outputs": [],
   "source": [
    "cloths.dropna(subset=['Review_Text','Category'],inplace=True)"
   ]
  },
  {
   "cell_type": "code",
   "execution_count": 113,
   "id": "028afe16",
   "metadata": {},
   "outputs": [
    {
     "data": {
      "text/plain": [
       "Category          0\n",
       "Subcategory1      0\n",
       "SubCategory2      0\n",
       "Location          0\n",
       "Channel           0\n",
       "Customer_Age      0\n",
       "Review_Text       0\n",
       "Rating            0\n",
       "Recommend_Flag    0\n",
       "dtype: int64"
      ]
     },
     "execution_count": 113,
     "metadata": {},
     "output_type": "execute_result"
    }
   ],
   "source": [
    "cloths.isna().sum()"
   ]
  },
  {
   "cell_type": "code",
   "execution_count": 117,
   "id": "bd38653e",
   "metadata": {},
   "outputs": [
    {
     "data": {
      "text/plain": [
       "'Absolutely wonderful - silky and sexy and comfortable'"
      ]
     },
     "execution_count": 117,
     "metadata": {},
     "output_type": "execute_result"
    }
   ],
   "source": [
    "cloths.Review_Text[0]"
   ]
  },
  {
   "cell_type": "code",
   "execution_count": 123,
   "id": "76b636b1",
   "metadata": {},
   "outputs": [
    {
     "data": {
      "text/plain": [
       "0.6333333333333333"
      ]
     },
     "execution_count": 123,
     "metadata": {},
     "output_type": "execute_result"
    }
   ],
   "source": [
    "TextBlob(cloths.Review_Text[0]).sentiment.polarity"
   ]
  },
  {
   "cell_type": "code",
   "execution_count": 139,
   "id": "ba2dcd9d",
   "metadata": {},
   "outputs": [
    {
     "data": {
      "text/plain": [
       "'This is a beautiful sweater! it is not too heavy and the variation in knit from front to back makes not the same old boring sweater. the color is gorgeous.'"
      ]
     },
     "execution_count": 139,
     "metadata": {},
     "output_type": "execute_result"
    }
   ],
   "source": [
    "cloths.Review_Text[1947]"
   ]
  },
  {
   "cell_type": "code",
   "execution_count": 140,
   "id": "92cc9d06",
   "metadata": {},
   "outputs": [
    {
     "data": {
      "text/plain": [
       "0.08571428571428572"
      ]
     },
     "execution_count": 140,
     "metadata": {},
     "output_type": "execute_result"
    }
   ],
   "source": [
    "TextBlob(cloths.Review_Text[1947]).sentiment.polarity"
   ]
  },
  {
   "cell_type": "code",
   "execution_count": null,
   "id": "d4072bb6",
   "metadata": {},
   "outputs": [],
   "source": [
    "# Check the sentiment polarity score for negative review."
   ]
  },
  {
   "cell_type": "code",
   "execution_count": 134,
   "id": "c52e936d",
   "metadata": {},
   "outputs": [],
   "source": [
    "rev1 = 'The clothing quality is bad. Unsatisfied product'"
   ]
  },
  {
   "cell_type": "code",
   "execution_count": 135,
   "id": "4934b2b6",
   "metadata": {},
   "outputs": [
    {
     "data": {
      "text/plain": [
       "-0.6999999999999998"
      ]
     },
     "execution_count": 135,
     "metadata": {},
     "output_type": "execute_result"
    }
   ],
   "source": [
    "TextBlob(rev1).sentiment.polarity"
   ]
  },
  {
   "cell_type": "code",
   "execution_count": null,
   "id": "00a8c666",
   "metadata": {},
   "outputs": [],
   "source": [
    "# Check the sentiment polarity score for Review_Text."
   ]
  },
  {
   "cell_type": "code",
   "execution_count": 143,
   "id": "86ebac40",
   "metadata": {},
   "outputs": [
    {
     "data": {
      "text/html": [
       "<div>\n",
       "<style scoped>\n",
       "    .dataframe tbody tr th:only-of-type {\n",
       "        vertical-align: middle;\n",
       "    }\n",
       "\n",
       "    .dataframe tbody tr th {\n",
       "        vertical-align: top;\n",
       "    }\n",
       "\n",
       "    .dataframe thead th {\n",
       "        text-align: right;\n",
       "    }\n",
       "</style>\n",
       "<table border=\"1\" class=\"dataframe\">\n",
       "  <thead>\n",
       "    <tr style=\"text-align: right;\">\n",
       "      <th></th>\n",
       "      <th>Category</th>\n",
       "      <th>Subcategory1</th>\n",
       "      <th>SubCategory2</th>\n",
       "      <th>Location</th>\n",
       "      <th>Channel</th>\n",
       "      <th>Customer_Age</th>\n",
       "      <th>Review_Text</th>\n",
       "      <th>Rating</th>\n",
       "      <th>Recommend_Flag</th>\n",
       "      <th>Sentiment_Score</th>\n",
       "    </tr>\n",
       "  </thead>\n",
       "  <tbody>\n",
       "    <tr>\n",
       "      <th>0</th>\n",
       "      <td>Initmates</td>\n",
       "      <td>Intimate</td>\n",
       "      <td>Intimates</td>\n",
       "      <td>Mumbai</td>\n",
       "      <td>Mobile</td>\n",
       "      <td>33</td>\n",
       "      <td>Absolutely wonderful - silky and sexy and comf...</td>\n",
       "      <td>4</td>\n",
       "      <td>1</td>\n",
       "      <td>0.633333</td>\n",
       "    </tr>\n",
       "    <tr>\n",
       "      <th>1</th>\n",
       "      <td>General</td>\n",
       "      <td>Dresses</td>\n",
       "      <td>Dresses</td>\n",
       "      <td>Bangalore</td>\n",
       "      <td>Mobile</td>\n",
       "      <td>34</td>\n",
       "      <td>Love this dress!  it's sooo pretty.  i happene...</td>\n",
       "      <td>5</td>\n",
       "      <td>1</td>\n",
       "      <td>0.339583</td>\n",
       "    </tr>\n",
       "    <tr>\n",
       "      <th>2</th>\n",
       "      <td>General</td>\n",
       "      <td>Dresses</td>\n",
       "      <td>Dresses</td>\n",
       "      <td>Gurgaon</td>\n",
       "      <td>Mobile</td>\n",
       "      <td>60</td>\n",
       "      <td>I had such high hopes for this dress and reall...</td>\n",
       "      <td>3</td>\n",
       "      <td>0</td>\n",
       "      <td>0.073675</td>\n",
       "    </tr>\n",
       "    <tr>\n",
       "      <th>3</th>\n",
       "      <td>General Petite</td>\n",
       "      <td>Bottoms</td>\n",
       "      <td>Pants</td>\n",
       "      <td>Chennai</td>\n",
       "      <td>Web</td>\n",
       "      <td>50</td>\n",
       "      <td>I love, love, love this jumpsuit. it's fun, fl...</td>\n",
       "      <td>5</td>\n",
       "      <td>1</td>\n",
       "      <td>0.550000</td>\n",
       "    </tr>\n",
       "    <tr>\n",
       "      <th>4</th>\n",
       "      <td>General</td>\n",
       "      <td>Tops</td>\n",
       "      <td>Blouses</td>\n",
       "      <td>Bangalore</td>\n",
       "      <td>Web</td>\n",
       "      <td>47</td>\n",
       "      <td>This shirt is very flattering to all due to th...</td>\n",
       "      <td>5</td>\n",
       "      <td>1</td>\n",
       "      <td>0.512891</td>\n",
       "    </tr>\n",
       "  </tbody>\n",
       "</table>\n",
       "</div>"
      ],
      "text/plain": [
       "         Category Subcategory1 SubCategory2   Location Channel  Customer_Age  \\\n",
       "0       Initmates     Intimate    Intimates     Mumbai  Mobile            33   \n",
       "1         General      Dresses      Dresses  Bangalore  Mobile            34   \n",
       "2         General      Dresses      Dresses    Gurgaon  Mobile            60   \n",
       "3  General Petite      Bottoms        Pants    Chennai     Web            50   \n",
       "4         General         Tops      Blouses  Bangalore     Web            47   \n",
       "\n",
       "                                         Review_Text  Rating  Recommend_Flag  \\\n",
       "0  Absolutely wonderful - silky and sexy and comf...       4               1   \n",
       "1  Love this dress!  it's sooo pretty.  i happene...       5               1   \n",
       "2  I had such high hopes for this dress and reall...       3               0   \n",
       "3  I love, love, love this jumpsuit. it's fun, fl...       5               1   \n",
       "4  This shirt is very flattering to all due to th...       5               1   \n",
       "\n",
       "   Sentiment_Score  \n",
       "0         0.633333  \n",
       "1         0.339583  \n",
       "2         0.073675  \n",
       "3         0.550000  \n",
       "4         0.512891  "
      ]
     },
     "execution_count": 143,
     "metadata": {},
     "output_type": "execute_result"
    }
   ],
   "source": [
    "cloths['Sentiment_Score'] = cloths[\"Review_Text\"].apply(lambda x: TextBlob(x).sentiment.polarity)\n",
    "cloths.head()"
   ]
  },
  {
   "cell_type": "code",
   "execution_count": null,
   "id": "9d4cad30",
   "metadata": {},
   "outputs": [],
   "source": []
  },
  {
   "cell_type": "code",
   "execution_count": null,
   "id": "5726d5da",
   "metadata": {},
   "outputs": [],
   "source": []
  },
  {
   "cell_type": "code",
   "execution_count": null,
   "id": "78594893",
   "metadata": {},
   "outputs": [],
   "source": []
  },
  {
   "cell_type": "code",
   "execution_count": null,
   "id": "730f1f61",
   "metadata": {},
   "outputs": [],
   "source": []
  },
  {
   "cell_type": "code",
   "execution_count": null,
   "id": "09b9bb92",
   "metadata": {},
   "outputs": [],
   "source": []
  },
  {
   "cell_type": "code",
   "execution_count": null,
   "id": "d900ed70",
   "metadata": {},
   "outputs": [],
   "source": []
  },
  {
   "cell_type": "code",
   "execution_count": null,
   "id": "35d80d07",
   "metadata": {},
   "outputs": [],
   "source": []
  },
  {
   "cell_type": "code",
   "execution_count": null,
   "id": "c7518835",
   "metadata": {},
   "outputs": [],
   "source": []
  },
  {
   "cell_type": "code",
   "execution_count": null,
   "id": "822ab627",
   "metadata": {},
   "outputs": [],
   "source": []
  },
  {
   "cell_type": "code",
   "execution_count": null,
   "id": "69c0a345",
   "metadata": {},
   "outputs": [],
   "source": []
  },
  {
   "cell_type": "code",
   "execution_count": null,
   "id": "90cf3fcb",
   "metadata": {},
   "outputs": [],
   "source": []
  },
  {
   "cell_type": "code",
   "execution_count": null,
   "id": "f6eaaded",
   "metadata": {},
   "outputs": [],
   "source": []
  },
  {
   "cell_type": "code",
   "execution_count": null,
   "id": "ee20f513",
   "metadata": {},
   "outputs": [],
   "source": []
  },
  {
   "cell_type": "code",
   "execution_count": null,
   "id": "62989099",
   "metadata": {},
   "outputs": [],
   "source": []
  },
  {
   "cell_type": "code",
   "execution_count": null,
   "id": "5c5f9a6b",
   "metadata": {},
   "outputs": [],
   "source": []
  },
  {
   "cell_type": "code",
   "execution_count": null,
   "id": "2b600705",
   "metadata": {},
   "outputs": [],
   "source": []
  },
  {
   "cell_type": "code",
   "execution_count": null,
   "id": "bb20160e",
   "metadata": {},
   "outputs": [],
   "source": []
  },
  {
   "cell_type": "code",
   "execution_count": null,
   "id": "ea4f6642",
   "metadata": {},
   "outputs": [],
   "source": []
  },
  {
   "cell_type": "code",
   "execution_count": null,
   "id": "38c39aac",
   "metadata": {},
   "outputs": [],
   "source": []
  },
  {
   "cell_type": "code",
   "execution_count": null,
   "id": "ce3e66f8",
   "metadata": {},
   "outputs": [],
   "source": []
  },
  {
   "cell_type": "code",
   "execution_count": null,
   "id": "ec561a35",
   "metadata": {},
   "outputs": [],
   "source": []
  },
  {
   "cell_type": "code",
   "execution_count": null,
   "id": "15bc2b4f",
   "metadata": {},
   "outputs": [],
   "source": []
  },
  {
   "cell_type": "code",
   "execution_count": null,
   "id": "a4f16754",
   "metadata": {},
   "outputs": [],
   "source": []
  },
  {
   "cell_type": "code",
   "execution_count": null,
   "id": "4c3ea45f",
   "metadata": {},
   "outputs": [],
   "source": []
  },
  {
   "cell_type": "code",
   "execution_count": null,
   "id": "389ad617",
   "metadata": {},
   "outputs": [],
   "source": []
  },
  {
   "cell_type": "code",
   "execution_count": null,
   "id": "b5c904a7",
   "metadata": {},
   "outputs": [],
   "source": []
  },
  {
   "cell_type": "code",
   "execution_count": null,
   "id": "a404c7fe",
   "metadata": {},
   "outputs": [],
   "source": []
  },
  {
   "cell_type": "code",
   "execution_count": null,
   "id": "b48e3818",
   "metadata": {},
   "outputs": [],
   "source": []
  },
  {
   "cell_type": "code",
   "execution_count": null,
   "id": "076c32bc",
   "metadata": {},
   "outputs": [],
   "source": []
  },
  {
   "cell_type": "code",
   "execution_count": null,
   "id": "7778edda",
   "metadata": {},
   "outputs": [],
   "source": []
  },
  {
   "cell_type": "code",
   "execution_count": null,
   "id": "0795bb0a",
   "metadata": {},
   "outputs": [],
   "source": []
  }
 ],
 "metadata": {
  "kernelspec": {
   "display_name": "Python 3",
   "language": "python",
   "name": "python3"
  },
  "language_info": {
   "codemirror_mode": {
    "name": "ipython",
    "version": 3
   },
   "file_extension": ".py",
   "mimetype": "text/x-python",
   "name": "python",
   "nbconvert_exporter": "python",
   "pygments_lexer": "ipython3",
   "version": "3.8.8"
  }
 },
 "nbformat": 4,
 "nbformat_minor": 5
}
